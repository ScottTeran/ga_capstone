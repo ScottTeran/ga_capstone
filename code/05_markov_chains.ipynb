{
 "cells": [
  {
   "cell_type": "code",
   "execution_count": 1,
   "metadata": {
    "colab": {
     "base_uri": "https://localhost:8080/",
     "height": 129
    },
    "id": "0_VbyLKZXhy7",
    "outputId": "8ff3e432-0655-4ad9-caee-516331609196"
   },
   "outputs": [
    {
     "ename": "SyntaxError",
     "evalue": "ignored",
     "output_type": "error",
     "traceback": [
      "\u001b[0;36m  File \u001b[0;32m\"<ipython-input-1-78d65dd61c18>\"\u001b[0;36m, line \u001b[0;32m3\u001b[0m\n\u001b[0;31m    pip install markovify\u001b[0m\n\u001b[0m              ^\u001b[0m\n\u001b[0;31mSyntaxError\u001b[0m\u001b[0;31m:\u001b[0m invalid syntax\n"
     ]
    }
   ],
   "source": [
    "# this needs to be run if in Google Colab\n",
    "\n",
    "pip install markovify"
   ]
  },
  {
   "cell_type": "code",
   "execution_count": null,
   "metadata": {
    "id": "xCm3P5WfXqZd"
   },
   "outputs": [],
   "source": [
    "# import library\n",
    "import markovify"
   ]
  },
  {
   "cell_type": "code",
   "execution_count": null,
   "metadata": {
    "colab": {
     "base_uri": "https://localhost:8080/"
    },
    "id": "K2XCqyB5XcPd",
    "outputId": "7386c92a-f4f6-4a96-bd3b-6ebe679a76ed"
   },
   "outputs": [
    {
     "name": "stdout",
     "output_type": "stream",
     "text": [
      "They lived in vain.\n",
      "Sammy the Snake devoured that tall turret.\n",
      "But the Permit Office of the second to do it.\n",
      "Being digammated, it would do a thing in existence, though, with their fingers.\n",
      "And a fifteen- minute coffee break could turn into the walls of it.\n",
      "Ah, you have never seen it on one 226 POLITY AND CUSTOM OF THE GREAT HORSES From the great remembered oral history of Klepsis was by water.\n",
      "There is a dry one.\n",
      "Complete segregation of the Proavitoi.\n",
      "The big deals aren't here in the black man was having evil fun in life.\n",
      "Men quickly raised it up to that very soft and dangerous.\n",
      "They looked at the big prophets pray so noisily and greedily.\n",
      "And they had something he wanted.\n",
      "The gentleman was puzzled, and he resolved to be orbited into the bottomless quicksand of cliché, both of the ramble of the twins is very big box or a girl, would you refuse to deal with either.\n"
     ]
    }
   ],
   "source": [
    "# credit to Jeremy Singer-Vine for the handy code below\n",
    "\n",
    "# get raw text as string\n",
    "with open(\"/content/compiled_lafferty.txt\") as f:\n",
    "    text = f.read()\n",
    "\n",
    "# build the model\n",
    "text_model = markovify.Text(text)\n",
    "\n",
    "# print five randomly-generated sentences\n",
    "for i in range(10):\n",
    "    print(text_model.make_sentence())\n",
    "\n",
    "# print three randomly-generated sentences of no more than 280 characters\n",
    "for i in range(3):\n",
    "    print(text_model.make_short_sentence(280))"
   ]
  },
  {
   "cell_type": "code",
   "execution_count": null,
   "metadata": {
    "id": "-iMw7LQ_X58V"
   },
   "outputs": [],
   "source": [
    "# I honestly can't remember what I was doing here. It could have been the start of using spaCy to compare text.\n",
    "\n",
    "import markovify\n",
    "import re\n",
    "import spacy\n",
    "\n",
    "nlp = spacy.load(\"en_core_web_sm\")\n",
    "\n",
    "class POSifiedText(markovify.Text):\n",
    "    def word_split(self, sentence):\n",
    "        return [\"::\".join((word.orth_, word.pos_)) for word in nlp(sentence)]\n",
    "\n",
    "    def word_join(self, words):\n",
    "        sentence = \" \".join(word.split(\"::\")[0] for word in words)\n",
    "        return sentence"
   ]
  }
 ],
 "metadata": {
  "colab": {
   "name": "05_markov_chains.ipynb",
   "provenance": []
  },
  "kernelspec": {
   "display_name": "Python 3",
   "language": "python",
   "name": "python3"
  },
  "language_info": {
   "codemirror_mode": {
    "name": "ipython",
    "version": 3
   },
   "file_extension": ".py",
   "mimetype": "text/x-python",
   "name": "python",
   "nbconvert_exporter": "python",
   "pygments_lexer": "ipython3",
   "version": "3.8.8"
  }
 },
 "nbformat": 4,
 "nbformat_minor": 4
}
