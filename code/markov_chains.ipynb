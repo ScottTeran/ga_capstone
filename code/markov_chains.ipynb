{
  "nbformat": 4,
  "nbformat_minor": 0,
  "metadata": {
    "colab": {
      "name": "markov_chains.ipynb",
      "provenance": [],
      "authorship_tag": "ABX9TyNyc9i3hy3SGc2sizr2oRVz",
      "include_colab_link": true
    },
    "kernelspec": {
      "name": "python3",
      "display_name": "Python 3"
    },
    "language_info": {
      "name": "python"
    }
  },
  "cells": [
    {
      "cell_type": "markdown",
      "metadata": {
        "id": "view-in-github",
        "colab_type": "text"
      },
      "source": [
        "<a href=\"https://colab.research.google.com/github/ScottTeran/ga_capstone/blob/main/code/markov_chains.ipynb\" target=\"_parent\"><img src=\"https://colab.research.google.com/assets/colab-badge.svg\" alt=\"Open In Colab\"/></a>"
      ]
    },
    {
      "cell_type": "code",
      "metadata": {
        "colab": {
          "base_uri": "https://localhost:8080/"
        },
        "id": "0_VbyLKZXhy7",
        "outputId": "55bc3c15-8c1a-43de-818d-9accad353320"
      },
      "source": [
        "pip install markovify"
      ],
      "execution_count": 2,
      "outputs": [
        {
          "output_type": "stream",
          "name": "stdout",
          "text": [
            "Collecting markovify\n",
            "  Downloading markovify-0.9.3.tar.gz (28 kB)\n",
            "Collecting unidecode\n",
            "  Downloading Unidecode-1.3.2-py3-none-any.whl (235 kB)\n",
            "\u001b[K     |████████████████████████████████| 235 kB 12.1 MB/s \n",
            "\u001b[?25hBuilding wheels for collected packages: markovify\n",
            "  Building wheel for markovify (setup.py) ... \u001b[?25l\u001b[?25hdone\n",
            "  Created wheel for markovify: filename=markovify-0.9.3-py3-none-any.whl size=18622 sha256=a846a882302e275dcb880d5270d5d9fc4bfb8adcd484a8cc4c9fbbc26fc454c5\n",
            "  Stored in directory: /root/.cache/pip/wheels/d9/f0/5b/748a27bdf2496bd4df51acb9442dae516efce507ff4849813e\n",
            "Successfully built markovify\n",
            "Installing collected packages: unidecode, markovify\n",
            "Successfully installed markovify-0.9.3 unidecode-1.3.2\n"
          ]
        }
      ]
    },
    {
      "cell_type": "code",
      "metadata": {
        "id": "xCm3P5WfXqZd"
      },
      "source": [
        "import markovify"
      ],
      "execution_count": 3,
      "outputs": []
    },
    {
      "cell_type": "code",
      "metadata": {
        "colab": {
          "base_uri": "https://localhost:8080/"
        },
        "id": "K2XCqyB5XcPd",
        "outputId": "a33bdc51-945e-4a04-f7ae-86248acb03e1"
      },
      "source": [
        "# Get raw text as string.\n",
        "with open(\"/content/compiled_lafferty.txt\") as f:\n",
        "    text = f.read()\n",
        "\n",
        "# Build the model.\n",
        "text_model = markovify.Text(text)\n",
        "\n",
        "# Print five randomly-generated sentences\n",
        "for i in range(5):\n",
        "    print(text_model.make_sentence())\n",
        "\n",
        "# Print three randomly-generated sentences of no more than 280 characters\n",
        "for i in range(3):\n",
        "    print(text_model.make_short_sentence(280))"
      ],
      "execution_count": 4,
      "outputs": [
        {
          "output_type": "stream",
          "name": "stdout",
          "text": [
            "It was the Harvester in his intricate and carrying on, but in the car.\n",
            "He said he hadn't any business up here, and now you are waving in the air, but with 307 ONE AT A TIME BARNABY PHONED up John Sourwine.\n",
            "Bauer was a double handful of rough unfinished wood that is why I came.\n",
            "The horns reached high when told to become straggly in the room below us for every phrase I've used.\n",
            "You must write on it before.\n",
            "One more is needed so that this makes me mad, and when he talks, and play with it.\n",
            "This man was Hannali Innominee.\n",
            "But I was a crashing tower; and the arktos themselves.\n"
          ]
        }
      ]
    },
    {
      "cell_type": "code",
      "metadata": {
        "id": "-iMw7LQ_X58V"
      },
      "source": [
        "import markovify\n",
        "import re\n",
        "import spacy\n",
        "\n",
        "nlp = spacy.load(\"en_core_web_sm\")\n",
        "\n",
        "class POSifiedText(markovify.Text):\n",
        "    def word_split(self, sentence):\n",
        "        return [\"::\".join((word.orth_, word.pos_)) for word in nlp(sentence)]\n",
        "\n",
        "    def word_join(self, words):\n",
        "        sentence = \" \".join(word.split(\"::\")[0] for word in words)\n",
        "        return sentence"
      ],
      "execution_count": 5,
      "outputs": []
    },
    {
      "cell_type": "code",
      "metadata": {
        "id": "QDLmkvozYSRC"
      },
      "source": [
        ""
      ],
      "execution_count": null,
      "outputs": []
    }
  ]
}