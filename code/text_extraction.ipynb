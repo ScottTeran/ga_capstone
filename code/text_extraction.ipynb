{
 "cells": [
  {
   "cell_type": "markdown",
   "metadata": {
    "colab_type": "text",
    "id": "view-in-github"
   },
   "source": [
    "<a href=\"https://colab.research.google.com/github/ScottTeran/ga_capstone/blob/main/text_extraction.ipynb\" target=\"_parent\"><img src=\"https://colab.research.google.com/assets/colab-badge.svg\" alt=\"Open In Colab\"/></a>"
   ]
  },
  {
   "cell_type": "code",
   "execution_count": null,
   "metadata": {
    "id": "lgZVdeBomn8u"
   },
   "outputs": [],
   "source": [
    "# pip install google-cloud-vision"
   ]
  },
  {
   "cell_type": "code",
   "execution_count": null,
   "metadata": {
    "id": "5jfV-ybumyF8"
   },
   "outputs": [],
   "source": [
    "# pip install google-cloud-storage"
   ]
  },
  {
   "cell_type": "code",
   "execution_count": null,
   "metadata": {
    "id": "5yfO0SPsqJcT"
   },
   "outputs": [],
   "source": [
    "# https://stackoverflow.com/questions/45501082/set-google-application-credentials-in-python-project-to-use-google-api\n",
    "\n",
    "import os\n",
    "os.environ[\"GOOGLE_APPLICATION_CREDENTIALS\"]=\"/content/ra-lafferty-13f7704670eb.json\""
   ]
  },
  {
   "cell_type": "code",
   "execution_count": null,
   "metadata": {
    "id": "D2_4eK4RlPzB"
   },
   "outputs": [],
   "source": [
    "import json\n",
    "import re\n",
    "\n",
    "from google.cloud import vision\n",
    "from google.cloud import storage"
   ]
  },
  {
   "cell_type": "code",
   "execution_count": null,
   "metadata": {
    "id": "S3QwKDyUmd1a"
   },
   "outputs": [],
   "source": [
    "def async_detect_documents(gcs_source_uri, gcs_destination_uri):\n",
    "    \n",
    "    mime_type = 'application/pdf'\n",
    "    \n",
    "    batch_size =  100\n",
    "    \n",
    "    client = vision.ImageAnnotatorClient()\n",
    "    \n",
    "    feature = vision.Feature(\n",
    "        type_= vision.Feature.Type.DOCUMENT_TEXT_DETECTION)\n",
    "    \n",
    "    gcs_source = vision.GcsSource(uri = gcs_source_uri)\n",
    "    input_config = vision.InputConfig(\n",
    "        gcs_source = gcs_source, mime_type = mime_type)\n",
    "    \n",
    "    gcs_destination = vision.GcsDestination(uri = gcs_destination_uri)\n",
    "    output_config = vision.OutputConfig(\n",
    "        gcs_destination = gcs_destination, \n",
    "        batch_size = batch_size)\n",
    "    \n",
    "    async_request = vision.AsyncAnnotateFileRequest(\n",
    "        features = [feature], input_config = input_config,\n",
    "        output_config = output_config)\n",
    "    \n",
    "    operation = client.async_batch_annotate_files(\n",
    "        requests = [async_request])\n",
    "    \n",
    "    print('Waiting for the operation to finish.')\n",
    "    operation.result(timeout = 400)"
   ]
  },
  {
   "cell_type": "code",
   "execution_count": null,
   "metadata": {
    "id": "ab1MrihXnzLI"
   },
   "outputs": [],
   "source": [
    "async_detect_documents('gs://ra_lafferty_pdfs/The_Devil_Is_Dead.pdf', 'gs://ra_lafferty_pdfs/txt_files')"
   ]
  },
  {
   "cell_type": "code",
   "execution_count": null,
   "metadata": {
    "id": "XRGwLOqlpksN"
   },
   "outputs": [],
   "source": []
  }
 ],
 "metadata": {
  "colab": {
   "authorship_tag": "ABX9TyOYuyrM5cChfEsvQ245PhL0",
   "include_colab_link": true,
   "name": "text_extraction",
   "provenance": []
  },
  "kernelspec": {
   "display_name": "Python 3",
   "language": "python",
   "name": "python3"
  },
  "language_info": {
   "codemirror_mode": {
    "name": "ipython",
    "version": 3
   },
   "file_extension": ".py",
   "mimetype": "text/x-python",
   "name": "python",
   "nbconvert_exporter": "python",
   "pygments_lexer": "ipython3",
   "version": "3.8.8"
  }
 },
 "nbformat": 4,
 "nbformat_minor": 4
}
