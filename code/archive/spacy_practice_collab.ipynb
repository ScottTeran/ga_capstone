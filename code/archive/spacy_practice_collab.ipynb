{
  "nbformat": 4,
  "nbformat_minor": 0,
  "metadata": {
    "colab": {
      "name": "spacy_practice_collab.ipynb",
      "provenance": []
    },
    "kernelspec": {
      "name": "python3",
      "display_name": "Python 3"
    },
    "language_info": {
      "name": "python"
    }
  },
  "cells": [
    {
      "cell_type": "code",
      "metadata": {
        "id": "5joDERS00BBW"
      },
      "source": [
        "# # https://stackoverflow.com/questions/56927602/unable-to-load-the-spacy-model-en-core-web-lg-on-google-colab\n",
        "\n",
        "# !python -m spacy download en_core_web_lg"
      ],
      "execution_count": null,
      "outputs": []
    },
    {
      "cell_type": "code",
      "metadata": {
        "id": "RoqcCuLCzCIt"
      },
      "source": [
        "import spacy\n",
        "import en_core_web_lg # more info on models at @ https://spacy.io/models/en\n",
        "nlp = spacy.load('en_core_web_lg')"
      ],
      "execution_count": null,
      "outputs": []
    },
    {
      "cell_type": "code",
      "metadata": {
        "id": "1sTx8oDRn2IK"
      },
      "source": [
        "# process some text\n",
        "doc = nlp(\"I think it's time we blow this scene. Get everybody and the stuff together. OK, three, two, one. Let's jam!\")"
      ],
      "execution_count": null,
      "outputs": []
    },
    {
      "cell_type": "code",
      "metadata": {
        "colab": {
          "base_uri": "https://localhost:8080/"
        },
        "id": "OBQOYA5xosqA",
        "outputId": "fb2705c7-316b-4954-f2db-d13580346bc8"
      },
      "source": [
        "# iterate over the tokens i\n",
        "for token in doc:\n",
        "    # print the text and the predicted part-of-speech tag\n",
        "    print(token.text, token.pos_)"
      ],
      "execution_count": null,
      "outputs": [
        {
          "output_type": "stream",
          "name": "stdout",
          "text": [
            "I PRON\n",
            "think VERB\n",
            "it PRON\n",
            "'s AUX\n",
            "time NOUN\n",
            "we PRON\n",
            "blow VERB\n",
            "this DET\n",
            "scene NOUN\n",
            ". PUNCT\n",
            "Get VERB\n",
            "everybody PRON\n",
            "and CCONJ\n",
            "the DET\n",
            "stuff NOUN\n",
            "together ADV\n",
            ". PUNCT\n",
            "OK INTJ\n",
            ", PUNCT\n",
            "three NUM\n",
            ", PUNCT\n",
            "two NUM\n",
            ", PUNCT\n",
            "one NUM\n",
            ". PUNCT\n",
            "Let VERB\n",
            "'s PRON\n",
            "jam VERB\n",
            "! PUNCT\n"
          ]
        }
      ]
    },
    {
      "cell_type": "code",
      "metadata": {
        "colab": {
          "base_uri": "https://localhost:8080/",
          "height": 35
        },
        "id": "P5_UdwMIpCEo",
        "outputId": "a3e89e84-1da3-41c9-b317-6b11e717a3d7"
      },
      "source": [
        "# to find what a label or tag means, use spacy.explain(\"PROPN\")\n",
        "spacy.explain(\"CCONJ\")"
      ],
      "execution_count": null,
      "outputs": [
        {
          "output_type": "execute_result",
          "data": {
            "application/vnd.google.colaboratory.intrinsic+json": {
              "type": "string"
            },
            "text/plain": [
              "'coordinating conjunction'"
            ]
          },
          "metadata": {},
          "execution_count": 4
        }
      ]
    },
    {
      "cell_type": "code",
      "metadata": {
        "id": "1Clg0DBhsnW8"
      },
      "source": [
        "# Iterate over the tokens\n",
        "for token in doc:\n",
        "    # Check if the current token is a proper noun\n",
        "    if token.pos_ == \"PROPN\":\n",
        "        # Check if the next token is a verb\n",
        "        if doc[token.i + 1].pos_ == \"VERB\":\n",
        "            print(\"Found proper noun before a verb:\", token.text)"
      ],
      "execution_count": null,
      "outputs": []
    },
    {
      "cell_type": "code",
      "metadata": {
        "id": "UP5e56I01dpS"
      },
      "source": [
        ""
      ],
      "execution_count": null,
      "outputs": []
    }
  ]
}