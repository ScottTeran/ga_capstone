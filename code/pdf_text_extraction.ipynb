{
 "cells": [
  {
   "cell_type": "code",
   "execution_count": 1,
   "id": "ef845e25-f68d-41f8-926b-318c6222ce72",
   "metadata": {},
   "outputs": [],
   "source": [
    "# importing libraries\n",
    "import PyPDF2"
   ]
  },
  {
   "cell_type": "code",
   "execution_count": 7,
   "id": "d174ed4d-dc78-488c-a148-ce2cbe510c21",
   "metadata": {},
   "outputs": [],
   "source": [
    "reader = PyPDF2.PdfFileReader('../data/pdf/the_devil_is_dead.pdf')"
   ]
  },
  {
   "cell_type": "code",
   "execution_count": 9,
   "id": "ddbe9d12-ee76-447a-bb09-1baac43586cb",
   "metadata": {},
   "outputs": [
    {
     "data": {
      "text/plain": [
       "{'/Author': 'R. A. Lafferty',\n",
       " '/CreationDate': \"D:20140706232108-04'00'\",\n",
       " '/Creator': 'calibre (1.44.0) [http://calibre-ebook.com]',\n",
       " '/Keywords': 'Fiction, Science Fiction, CS, ST',\n",
       " '/ModDate': \"D:20140801001812-05'00'\",\n",
       " '/Producer': 'Adobe Acrobat 10.1.10 Paper Capture Plug-in with ClearScan',\n",
       " '/Title': 'The Devil Is Dead'}"
      ]
     },
     "execution_count": 9,
     "metadata": {},
     "output_type": "execute_result"
    }
   ],
   "source": [
    "# there is more than one way to skin a cat or scan a PDF, but credit to this tutorial https://towardsdatascience.com/pdf-text-extraction-in-python-5b6ab9e92dd\n",
    "reader.documentInfo"
   ]
  },
  {
   "cell_type": "code",
   "execution_count": 10,
   "id": "4d993e80-ed38-47ee-b4dd-6d9b21645a31",
   "metadata": {},
   "outputs": [
    {
     "data": {
      "text/plain": [
       "226"
      ]
     },
     "execution_count": 10,
     "metadata": {},
     "output_type": "execute_result"
    }
   ],
   "source": [
    "reader.numPages"
   ]
  },
  {
   "cell_type": "code",
   "execution_count": null,
   "id": "c800e0e7-ef1d-4fd5-bf02-904b9d207887",
   "metadata": {},
   "outputs": [],
   "source": []
  }
 ],
 "metadata": {
  "kernelspec": {
   "display_name": "Python 3",
   "language": "python",
   "name": "python3"
  },
  "language_info": {
   "codemirror_mode": {
    "name": "ipython",
    "version": 3
   },
   "file_extension": ".py",
   "mimetype": "text/x-python",
   "name": "python",
   "nbconvert_exporter": "python",
   "pygments_lexer": "ipython3",
   "version": "3.8.8"
  }
 },
 "nbformat": 4,
 "nbformat_minor": 5
}
