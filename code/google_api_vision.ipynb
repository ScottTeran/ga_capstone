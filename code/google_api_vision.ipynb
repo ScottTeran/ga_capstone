{
 "cells": [
  {
   "cell_type": "code",
   "execution_count": 1,
   "id": "86240b4c-e377-4e1e-86f2-729384d98492",
   "metadata": {},
   "outputs": [],
   "source": [
    "import json\n",
    "import re\n",
    "\n",
    "from google.cloud import vision\n",
    "from google.cloud import storage"
   ]
  },
  {
   "cell_type": "code",
   "execution_count": null,
   "id": "6444074a-c730-4c75-9f01-759a93907051",
   "metadata": {},
   "outputs": [],
   "source": [
    "def async_detect_documents(gcs_source_uri, gcs_destination_url):\n",
    "    \n",
    "    mime_type = 'application/pdf'\n",
    "    \n",
    "    batch_size =  100\n",
    "    \n",
    "    client = vision.ImageAnnotatorClient()\n",
    "    \n",
    "    feature = vision.Feature(\n",
    "        type_= vision.Feature.Type.DOCUMENT_TEXT_DETECTION)\n",
    "    \n",
    "    gcs_source = vision.GcsGource(uri = gcs_source_uri)\n",
    "    input_config = vision.InputConfig(\n",
    "        gcs_source = gcs_source, mime_type = mime_type)\n",
    "    \n",
    "    gcs_destination = vision.GcsDestination(uri = gcs_destination_uri)\n",
    "    output_config = vision.OutputConfig(\n",
    "        gcs_destination = gcs_destination, \n",
    "        batch_size = batch_size)\n",
    "    \n",
    "    async_request = vision.AsyncAnnotateFileRequest(\n",
    "        features=[feature]"
   ]
  }
 ],
 "metadata": {
  "kernelspec": {
   "display_name": "Python 3",
   "language": "python",
   "name": "python3"
  },
  "language_info": {
   "codemirror_mode": {
    "name": "ipython",
    "version": 3
   },
   "file_extension": ".py",
   "mimetype": "text/x-python",
   "name": "python",
   "nbconvert_exporter": "python",
   "pygments_lexer": "ipython3",
   "version": "3.8.8"
  }
 },
 "nbformat": 4,
 "nbformat_minor": 5
}
