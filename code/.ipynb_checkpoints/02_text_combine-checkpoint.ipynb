{
  "nbformat": 4,
  "nbformat_minor": 0,
  "metadata": {
    "colab": {
      "name": "02_text_combine.ipynb",
      "provenance": []
    },
    "kernelspec": {
      "name": "python3",
      "display_name": "Python 3"
    },
    "language_info": {
      "name": "python"
    }
  },
  "cells": [
    {
      "cell_type": "markdown",
      "metadata": {
        "id": "dv6XNBxPth2v"
      },
      "source": [
        "# Combine text files into single file"
      ]
    },
    {
      "cell_type": "code",
      "metadata": {
        "id": "cNvvUetHLNDV"
      },
      "source": [
        "# the numbered txt files correspond to the alphabetical order of PDF files\n",
        "\n",
        "txt_list = []\n",
        "for x in range(1,15):\n",
        "  txt_list.append('lafferty_' + str(x) + '.txt')"
      ],
      "execution_count": null,
      "outputs": []
    },
    {
      "cell_type": "code",
      "metadata": {
        "colab": {
          "base_uri": "https://localhost:8080/"
        },
        "id": "fDV7ldh_PEyr",
        "outputId": "e5ac9504-34e1-4c0a-e559-377f70317d7c"
      },
      "source": [
        "print(txt_list)"
      ],
      "execution_count": null,
      "outputs": [
        {
          "output_type": "stream",
          "name": "stdout",
          "text": [
            "['lafferty_1.txt', 'lafferty_2.txt', 'lafferty_3.txt', 'lafferty_4.txt', 'lafferty_5.txt', 'lafferty_6.txt', 'lafferty_7.txt', 'lafferty_8.txt', 'lafferty_9.txt', 'lafferty_10.txt', 'lafferty_11.txt', 'lafferty_12.txt', 'lafferty_13.txt', 'lafferty_14.txt']\n"
          ]
        }
      ]
    },
    {
      "cell_type": "code",
      "metadata": {
        "id": "ZQoIkbUdMH3y"
      },
      "source": [
        "# combining txt files to a single file | source:https://stackoverflow.com/questions/13613336/how-do-i-concatenate-text-files-in-python\n",
        "\n",
        "with open('/content/compiled_lafferty.txt', 'w') as outfile:\n",
        "  for fname in txt_list:\n",
        "        with open(fname) as infile:\n",
        "            for line in infile:\n",
        "                outfile.write(line)"
      ],
      "execution_count": null,
      "outputs": []
    },
    {
      "cell_type": "code",
      "metadata": {
        "colab": {
          "base_uri": "https://localhost:8080/"
        },
        "id": "k9iGqWS7kSUF",
        "outputId": "c51180cc-ec1b-4efc-e08e-9ac316f4fc5e"
      },
      "source": [
        "# https://www.kite.com/python/answers/how-to-count-the-lines,-word,-and-characters-within-a-text-file-in-python\n",
        "\n",
        "file = open(\"compiled_lafferty.txt\", \"r\")\n",
        "\n",
        "number_of_lines = 0\n",
        "number_of_words = 0\n",
        "number_of_characters = 0\n",
        "for line in file:\n",
        "  line = line.strip(\"\\n\")\n",
        "# won't count \\n as character\n",
        "\n",
        "  words = line.split()\n",
        "  number_of_lines += 1\n",
        "  number_of_words += len(words)\n",
        "  number_of_characters += len(line)\n",
        "\n",
        "file.close()\n",
        "\n",
        "print(\"lines:\", number_of_lines, \"words:\", number_of_words, \"characters:\", number_of_characters)"
      ],
      "execution_count": null,
      "outputs": [
        {
          "output_type": "stream",
          "name": "stdout",
          "text": [
            "lines: 130087 words: 1276455 characters: 6834598\n"
          ]
        }
      ]
    }
  ]
}