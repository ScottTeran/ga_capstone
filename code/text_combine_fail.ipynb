{
  "nbformat": 4,
  "nbformat_minor": 0,
  "metadata": {
    "colab": {
      "name": "text_combine_fail.ipynb",
      "provenance": [],
      "authorship_tag": "ABX9TyMsPzKrMKBws8iLCoRJENdu",
      "include_colab_link": true
    },
    "kernelspec": {
      "name": "python3",
      "display_name": "Python 3"
    },
    "language_info": {
      "name": "python"
    }
  },
  "cells": [
    {
      "cell_type": "markdown",
      "metadata": {
        "id": "view-in-github",
        "colab_type": "text"
      },
      "source": [
        "<a href=\"https://colab.research.google.com/github/ScottTeran/ga_capstone/blob/main/code/text_combine_fail.ipynb\" target=\"_parent\"><img src=\"https://colab.research.google.com/assets/colab-badge.svg\" alt=\"Open In Colab\"/></a>"
      ]
    },
    {
      "cell_type": "code",
      "metadata": {
        "id": "cNvvUetHLNDV"
      },
      "source": [
        "# the numbered txt files correspond to the alphabetical order of PDF files\n",
        "\n",
        "txt_list = []\n",
        "for x in range(1,13):\n",
        "  txt_list.append('lafferty_' + str(x) + '.txt')"
      ],
      "execution_count": 12,
      "outputs": []
    },
    {
      "cell_type": "code",
      "metadata": {
        "colab": {
          "base_uri": "https://localhost:8080/"
        },
        "id": "fDV7ldh_PEyr",
        "outputId": "abdb0c8a-68d2-4ded-9634-c45698bafae6"
      },
      "source": [
        "print(txt_list)"
      ],
      "execution_count": 13,
      "outputs": [
        {
          "output_type": "stream",
          "name": "stdout",
          "text": [
            "['lafferty_1.txt', 'lafferty_2.txt', 'lafferty_3.txt', 'lafferty_4.txt', 'lafferty_5.txt', 'lafferty_6.txt', 'lafferty_7.txt', 'lafferty_8.txt', 'lafferty_9.txt', 'lafferty_10.txt', 'lafferty_11.txt', 'lafferty_12.txt']\n"
          ]
        }
      ]
    },
    {
      "cell_type": "code",
      "metadata": {
        "id": "ZQoIkbUdMH3y"
      },
      "source": [
        "# combining txt files to a single file | source:https://stackoverflow.com/questions/13613336/how-do-i-concatenate-text-files-in-python\n",
        "\n",
        "with open('/content/compiled_lafferty.txt', 'w') as outfile:\n",
        "  for fname in txt_list:\n",
        "        with open(fname) as infile:\n",
        "            for line in infile:\n",
        "                outfile.write(line)"
      ],
      "execution_count": 15,
      "outputs": []
    },
    {
      "cell_type": "code",
      "metadata": {
        "id": "tz2GjM0YM7YN"
      },
      "source": [
        "import shutil\n",
        "\n",
        "with open('output_file.txt','wb') as wfd:\n",
        "    for f in txt_list:\n",
        "        with open(f,'rb') as fd:\n",
        "            shutil.copyfileobj(fd, wfd)"
      ],
      "execution_count": 16,
      "outputs": []
    },
    {
      "cell_type": "code",
      "metadata": {
        "id": "zXNyp9wXOnfO"
      },
      "source": [
        "import fileinput\n",
        "with open('test.txt', 'w') as fout, fileinput.input(txt_list) as fin:\n",
        "    for line in fin:\n",
        "        fout.write(line)"
      ],
      "execution_count": 17,
      "outputs": []
    },
    {
      "cell_type": "code",
      "metadata": {
        "id": "70Yev1XSRKzB"
      },
      "source": [
        "concat = \"\"\n",
        "for file in txt_list:\n",
        "    concat += open(file).read()"
      ],
      "execution_count": 18,
      "outputs": []
    },
    {
      "cell_type": "code",
      "metadata": {
        "colab": {
          "base_uri": "https://localhost:8080/",
          "height": 163
        },
        "id": "KwJmLLW5R7wO",
        "outputId": "84d6e825-dab7-464d-e5ea-2366d3bdb01f"
      },
      "source": [
        "concat.write('test2.txt')"
      ],
      "execution_count": 20,
      "outputs": [
        {
          "output_type": "error",
          "ename": "AttributeError",
          "evalue": "ignored",
          "traceback": [
            "\u001b[0;31m---------------------------------------------------------------------------\u001b[0m",
            "\u001b[0;31mAttributeError\u001b[0m                            Traceback (most recent call last)",
            "\u001b[0;32m<ipython-input-20-e775c60ffc70>\u001b[0m in \u001b[0;36m<module>\u001b[0;34m()\u001b[0m\n\u001b[0;32m----> 1\u001b[0;31m \u001b[0mconcat\u001b[0m\u001b[0;34m.\u001b[0m\u001b[0mwrite\u001b[0m\u001b[0;34m(\u001b[0m\u001b[0;34m'test2.txt'\u001b[0m\u001b[0;34m)\u001b[0m\u001b[0;34m\u001b[0m\u001b[0;34m\u001b[0m\u001b[0m\n\u001b[0m",
            "\u001b[0;31mAttributeError\u001b[0m: 'str' object has no attribute 'write'"
          ]
        }
      ]
    },
    {
      "cell_type": "code",
      "metadata": {
        "id": "dYvRDMNAR_yl"
      },
      "source": [
        "with open('test3.txt', 'a') as f:\n",
        "    f.writelines('\\n'.join(txt_list))"
      ],
      "execution_count": 21,
      "outputs": []
    },
    {
      "cell_type": "code",
      "metadata": {
        "id": "JyCWCe01SrpV"
      },
      "source": [
        "with open('test4.txt', 'x')\n",
        "  f.write"
      ],
      "execution_count": 24,
      "outputs": []
    },
    {
      "cell_type": "code",
      "metadata": {
        "id": "fB_B6mQOTKLe"
      },
      "source": [
        ""
      ],
      "execution_count": null,
      "outputs": []
    }
  ]
}