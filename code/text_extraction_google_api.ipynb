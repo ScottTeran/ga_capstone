{
  "nbformat": 4,
  "nbformat_minor": 0,
  "metadata": {
    "colab": {
      "name": "text_extraction",
      "provenance": [],
      "authorship_tag": "ABX9TyOYuyrM5cChfEsvQ245PhL0",
      "include_colab_link": true
    },
    "kernelspec": {
      "name": "python3",
      "display_name": "Python 3"
    },
    "language_info": {
      "name": "python"
    }
  },
  "cells": [
    {
      "cell_type": "markdown",
      "metadata": {
        "id": "view-in-github",
        "colab_type": "text"
      },
      "source": [
        "<a href=\"https://colab.research.google.com/github/ScottTeran/ga_capstone/blob/main/code/text_extraction_google_api.ipynb\" target=\"_parent\"><img src=\"https://colab.research.google.com/assets/colab-badge.svg\" alt=\"Open In Colab\"/></a>"
      ]
    },
    {
      "cell_type": "code",
      "metadata": {
        "id": "lgZVdeBomn8u"
      },
      "source": [
        "# pip install google-cloud-vision"
      ],
      "execution_count": null,
      "outputs": []
    },
    {
      "cell_type": "code",
      "metadata": {
        "id": "5jfV-ybumyF8"
      },
      "source": [
        "# pip install google-cloud-storage"
      ],
      "execution_count": null,
      "outputs": []
    },
    {
      "cell_type": "code",
      "metadata": {
        "id": "5yfO0SPsqJcT"
      },
      "source": [
        "# https://stackoverflow.com/questions/45501082/set-google-application-credentials-in-python-project-to-use-google-api\n",
        "\n",
        "import os\n",
        "os.environ[\"GOOGLE_APPLICATION_CREDENTIALS\"]=\"/content/ra-lafferty-13f7704670eb.json\""
      ],
      "execution_count": null,
      "outputs": []
    },
    {
      "cell_type": "code",
      "metadata": {
        "id": "D2_4eK4RlPzB"
      },
      "source": [
        "import json\n",
        "import re\n",
        "\n",
        "from google.cloud import vision\n",
        "from google.cloud import storage"
      ],
      "execution_count": null,
      "outputs": []
    },
    {
      "cell_type": "code",
      "metadata": {
        "id": "S3QwKDyUmd1a"
      },
      "source": [
        "def async_detect_documents(gcs_source_uri, gcs_destination_uri):\n",
        "    \n",
        "    mime_type = 'application/pdf'\n",
        "    \n",
        "    batch_size =  100\n",
        "    \n",
        "    client = vision.ImageAnnotatorClient()\n",
        "    \n",
        "    feature = vision.Feature(\n",
        "        type_= vision.Feature.Type.DOCUMENT_TEXT_DETECTION)\n",
        "    \n",
        "    gcs_source = vision.GcsSource(uri = gcs_source_uri)\n",
        "    input_config = vision.InputConfig(\n",
        "        gcs_source = gcs_source, mime_type = mime_type)\n",
        "    \n",
        "    gcs_destination = vision.GcsDestination(uri = gcs_destination_uri)\n",
        "    output_config = vision.OutputConfig(\n",
        "        gcs_destination = gcs_destination, \n",
        "        batch_size = batch_size)\n",
        "    \n",
        "    async_request = vision.AsyncAnnotateFileRequest(\n",
        "        features = [feature], input_config = input_config,\n",
        "        output_config = output_config)\n",
        "    \n",
        "    operation = client.async_batch_annotate_files(\n",
        "        requests = [async_request])\n",
        "    \n",
        "    print('Waiting for the operation to finish.')\n",
        "    operation.result(timeout = 400)"
      ],
      "execution_count": null,
      "outputs": []
    },
    {
      "cell_type": "code",
      "metadata": {
        "id": "ab1MrihXnzLI"
      },
      "source": [
        "async_detect_documents('gs://ra_lafferty_pdfs/The_Devil_Is_Dead.pdf', 'gs://ra_lafferty_pdfs/txt_files')"
      ],
      "execution_count": null,
      "outputs": []
    },
    {
      "cell_type": "code",
      "metadata": {
        "id": "XRGwLOqlpksN"
      },
      "source": [
        ""
      ],
      "execution_count": null,
      "outputs": []
    }
  ]
}